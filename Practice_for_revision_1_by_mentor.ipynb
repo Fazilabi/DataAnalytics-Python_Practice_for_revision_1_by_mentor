{
 "cells": [
  {
   "cell_type": "code",
   "execution_count": 15,
   "metadata": {},
   "outputs": [
    {
     "name": "stdout",
     "output_type": "stream",
     "text": [
      "Product name: Power Adapter\n",
      "Product quantity: 26\n",
      "Product price: 39\n",
      "Scanner quantity: 8\n",
      "Camera\n",
      "<class '__main__.Camera_and_Photo'>\n",
      "256 gb\n"
     ]
    }
   ],
   "source": [
    "class My_store:\n",
    "    def __init__(self,product_name, quantity, price ):\n",
    "        self.product_name = product_name\n",
    "        self.quantity = quantity\n",
    "        self.price = price\n",
    "    def total_product(self, product):\n",
    "        total = product.quantity * product.price\n",
    "        return total\n",
    "    \n",
    "\n",
    "class Camera_and_Photo (My_store):\n",
    "    def __init__(self, product_name, quantity, price, memory):\n",
    "        super().__init__(product_name, quantity, price)\n",
    "        self.memory = memory\n",
    "    def show(self,product):\n",
    "        print(product.memory)\n",
    "\n",
    "\n",
    "    \n",
    "\n",
    "p1 = My_store(\"Laptop\", 9, 2599)\n",
    "p2 = My_store(\"Phone\", 17, 1354)\n",
    "p3 = My_store(\"Printer\", 11, 869)\n",
    "p4 = My_store(\"Scanner\", 8, 799)\n",
    "p5 = My_store(\"Headphones\", 23, 299)\n",
    "p6 = My_store(\"Power Adapter\", 26, 39)\n",
    "p7 = My_store(\"Keyboard\", 19, 129)\n",
    "p8 = My_store(\"Mouse\", 27, 79)\n",
    "p9 = My_store(\"Television\", 6, 799)\n",
    "\n",
    "print(f\"Product name: {p6.product_name}\\nProduct quantity: {p6.quantity}\\nProduct price: {p6.price}\")\n",
    "print(f\"Scanner quantity: {p4.quantity}\")\n",
    "p7.total_product(p7)\n",
    "\n",
    "p10 = Camera_and_Photo(\"Camera\", 15, 1879, 256)\n",
    "print(p10.product_name)\n",
    "print(type(p10))\n",
    "print(f\"{p10.memory} gb\")"
   ]
  },
  {
   "cell_type": "code",
   "execution_count": 20,
   "metadata": {},
   "outputs": [
    {
     "name": "stdout",
     "output_type": "stream",
     "text": [
      "Full name: John\n",
      "Fullname: John\n",
      "Birth-date: 01-01-1950\n",
      "Book name: Notebook\n",
      "True\n",
      "True\n"
     ]
    }
   ],
   "source": [
    "class Writer():\n",
    "    def __init__(self, fullname ,birth_date,book_name):\n",
    "        self.fullname = fullname\n",
    "        self.birth_date = birth_date\n",
    "        self.book_name = book_name\n",
    "    def __repr__(self):\n",
    "        print(f\"Fullname: {self.fullname}\\nBirth-date: {self.birth_date}\\nBook name: {self.book_name}\")\n",
    "    def __str__(self):\n",
    "        print(f\"Full name: {self.fullname}\")\n",
    "\n",
    "w1 = Writer(\"John\", \"01-01-1950\", \"Notebook\")\n",
    "w1.__str__()\n",
    "w1.__repr__()\n",
    "\n",
    "print(isinstance(p10, My_store))\n",
    "print(issubclass(Camera_and_Photo, My_store))"
   ]
  },
  {
   "cell_type": "code",
   "execution_count": null,
   "metadata": {},
   "outputs": [],
   "source": []
  }
 ],
 "metadata": {
  "kernelspec": {
   "display_name": "base",
   "language": "python",
   "name": "python3"
  },
  "language_info": {
   "codemirror_mode": {
    "name": "ipython",
    "version": 3
   },
   "file_extension": ".py",
   "mimetype": "text/x-python",
   "name": "python",
   "nbconvert_exporter": "python",
   "pygments_lexer": "ipython3",
   "version": "3.10.9"
  }
 },
 "nbformat": 4,
 "nbformat_minor": 2
}
